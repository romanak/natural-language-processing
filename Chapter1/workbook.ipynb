{
 "cells": [
  {
   "cell_type": "code",
   "execution_count": 1,
   "id": "298ae75c-e9d2-44b2-b368-74a8a91b32d3",
   "metadata": {
    "execution": {
     "iopub.execute_input": "2021-10-22T05:21:06.938846Z",
     "iopub.status.busy": "2021-10-22T05:21:06.938332Z",
     "iopub.status.idle": "2021-10-22T05:21:07.398077Z",
     "shell.execute_reply": "2021-10-22T05:21:07.397316Z",
     "shell.execute_reply.started": "2021-10-22T05:21:06.938735Z"
    },
    "tags": []
   },
   "outputs": [],
   "source": [
    "# import basic perceptron\n",
    "from sklearn.linear_model import Perceptron\n",
    "# import dataset\n",
    "from sklearn.datasets import fetch_20newsgroups"
   ]
  },
  {
   "cell_type": "code",
   "execution_count": 2,
   "id": "abee4b2b-7193-4af8-957b-8ae904bd7b76",
   "metadata": {
    "execution": {
     "iopub.execute_input": "2021-10-22T05:21:07.461122Z",
     "iopub.status.busy": "2021-10-22T05:21:07.460739Z",
     "iopub.status.idle": "2021-10-22T05:21:07.658659Z",
     "shell.execute_reply": "2021-10-22T05:21:07.657866Z",
     "shell.execute_reply.started": "2021-10-22T05:21:07.461079Z"
    },
    "tags": []
   },
   "outputs": [
    {
     "data": {
      "text/plain": [
       "'From: sandvik@newton.apple.com (Kent Sandvik)\\nSubject: Re: New Member\\nOrganization: Cookamunga Tourist Bureau\\nLines: 20\\n\\nIn article <C5HIEw.7s1@portal.hq.videocart.com>,\\ndfuller@portal.hq.videocart.com (Dave Fuller) wrote:\\n>   He is right. Just because an event was explained by a human to have been\\n> done \"in the name of religion\", does not mean that it actually followed\\n> the religion. He will always point to the \"ideal\" and say that it wasn\\'t\\n> followed so it can\\'t be the reason for the event. There really is no way\\n> to argue with him, so why bother. Sure, you may get upset because his \\n> answer is blind and not supported factually - but he will win every time\\n> with his little argument. I don\\'t think there will be any postings from\\n> me in direct response to one of his.\\n\\nHey! Glad to have some serious and constructive contributors in this\\nnewsgroup. I agree 100% on the statement above, you might argue with\\nBobby for eons, and he still does not get it, so the best thing is\\nto spare your mental resources to discuss more interesting issues.\\n\\nCheers,\\nKent\\n---\\nsandvik@newton.apple.com. ALink: KSAND -- Private activities on the net.\\n'"
      ]
     },
     "execution_count": 2,
     "metadata": {},
     "output_type": "execute_result"
    }
   ],
   "source": [
    "# limit categories\n",
    "categories = ['alt.atheism', 'sci.med']\n",
    "# obtain documents\n",
    "train = fetch_20newsgroups(subset='train',categories=categories, shuffle=True)\n",
    "train.data[0]"
   ]
  },
  {
   "cell_type": "code",
   "execution_count": 3,
   "id": "445281ec-f5e3-4d0d-a8f4-e473bff24823",
   "metadata": {
    "execution": {
     "iopub.execute_input": "2021-10-22T05:21:08.204368Z",
     "iopub.status.busy": "2021-10-22T05:21:08.204018Z",
     "iopub.status.idle": "2021-10-22T05:21:08.210106Z",
     "shell.execute_reply": "2021-10-22T05:21:08.208930Z",
     "shell.execute_reply.started": "2021-10-22T05:21:08.204327Z"
    },
    "tags": []
   },
   "outputs": [],
   "source": [
    "# define perceptron\n",
    "perceptron = Perceptron(max_iter=100, verbose=0, random_state=None, fit_intercept=True)"
   ]
  },
  {
   "cell_type": "code",
   "execution_count": 4,
   "id": "877692f1-8271-416b-a42c-1affbca1d58f",
   "metadata": {
    "execution": {
     "iopub.execute_input": "2021-10-22T05:21:08.726831Z",
     "iopub.status.busy": "2021-10-22T05:21:08.726394Z",
     "iopub.status.idle": "2021-10-22T05:21:08.949751Z",
     "shell.execute_reply": "2021-10-22T05:21:08.949011Z",
     "shell.execute_reply.started": "2021-10-22T05:21:08.726790Z"
    },
    "tags": []
   },
   "outputs": [
    {
     "data": {
      "text/plain": [
       "(1074, 22735)"
      ]
     },
     "execution_count": 4,
     "metadata": {},
     "output_type": "execute_result"
    }
   ],
   "source": [
    "# convert a collection of text documents to a matrix of token counts\n",
    "from sklearn.feature_extraction.text import CountVectorizer\n",
    "cv = CountVectorizer()\n",
    "X_train_counts = cv.fit_transform(train.data)\n",
    "X_train_counts.shape"
   ]
  },
  {
   "cell_type": "code",
   "execution_count": 8,
   "id": "45980a60-8a88-491d-81ab-b0379db3f209",
   "metadata": {
    "execution": {
     "iopub.execute_input": "2021-10-22T05:21:26.186813Z",
     "iopub.status.busy": "2021-10-22T05:21:26.186426Z",
     "iopub.status.idle": "2021-10-22T05:21:26.203529Z",
     "shell.execute_reply": "2021-10-22T05:21:26.202573Z",
     "shell.execute_reply.started": "2021-10-22T05:21:26.186771Z"
    },
    "tags": []
   },
   "outputs": [],
   "source": [
    "# compute TFIDF representations of count vectors\n",
    "from sklearn.feature_extraction.text import TfidfTransformer\n",
    "tfidf_tf = TfidfTransformer()\n",
    "X_train_tfidf = tfidf_tf.fit_transform(X_train_counts)"
   ]
  },
  {
   "cell_type": "code",
   "execution_count": 9,
   "id": "3427db71-a2f8-462a-879e-5b0b40c5ed71",
   "metadata": {
    "execution": {
     "iopub.execute_input": "2021-10-22T05:21:27.074643Z",
     "iopub.status.busy": "2021-10-22T05:21:27.074274Z",
     "iopub.status.idle": "2021-10-22T05:21:27.094088Z",
     "shell.execute_reply": "2021-10-22T05:21:27.093351Z",
     "shell.execute_reply.started": "2021-10-22T05:21:27.074601Z"
    },
    "tags": []
   },
   "outputs": [
    {
     "data": {
      "text/plain": [
       "Perceptron(max_iter=100, random_state=None)"
      ]
     },
     "execution_count": 9,
     "metadata": {},
     "output_type": "execute_result"
    }
   ],
   "source": [
    "# perceptron is trained on TFIDF vectors\n",
    "perceptron.fit(X_train_tfidf,train.target)"
   ]
  },
  {
   "cell_type": "code",
   "execution_count": 10,
   "id": "43a71634-2a5c-4a29-b3a9-5e309d4c6ec2",
   "metadata": {
    "execution": {
     "iopub.execute_input": "2021-10-22T05:21:27.874753Z",
     "iopub.status.busy": "2021-10-22T05:21:27.874394Z",
     "iopub.status.idle": "2021-10-22T05:21:27.883365Z",
     "shell.execute_reply": "2021-10-22T05:21:27.882305Z",
     "shell.execute_reply.started": "2021-10-22T05:21:27.874712Z"
    },
    "tags": []
   },
   "outputs": [],
   "source": [
    "# test data\n",
    "test_docs = ['Religion is widespread, even in modern times', 'His kidney failed','The pope is a controversial leader', 'White blood cells fight off infections','The reverend had a heart attack in church']\n",
    "\n",
    "# test data is vectorized\n",
    "X_test_counts = cv.transform(test_docs)\n",
    "X_test_tfidf = tfidf_tf.transform(X_test_counts)"
   ]
  },
  {
   "cell_type": "code",
   "execution_count": 12,
   "id": "cba5e515-d8d8-4f81-81aa-7f592c46e678",
   "metadata": {
    "execution": {
     "iopub.execute_input": "2021-10-22T05:22:32.996559Z",
     "iopub.status.busy": "2021-10-22T05:22:32.996171Z",
     "iopub.status.idle": "2021-10-22T05:22:33.004967Z",
     "shell.execute_reply": "2021-10-22T05:22:33.003945Z",
     "shell.execute_reply.started": "2021-10-22T05:22:32.996515Z"
    },
    "tags": []
   },
   "outputs": [
    {
     "name": "stdout",
     "output_type": "stream",
     "text": [
      "'Religion is widespread, even in modern times' => alt.atheism\n",
      "'His kidney failed' => sci.med\n",
      "'The pope is a controversial leader' => alt.atheism\n",
      "'White blood cells fight off infections' => sci.med\n",
      "'The reverend had a heart attack in church' => sci.med\n"
     ]
    }
   ],
   "source": [
    "# predict result\n",
    "pred = perceptron.predict(X_test_tfidf)\n",
    "for doc, category in zip(test_docs, pred):\n",
    "    print('%r => %s' % (doc, train.target_names[category]))"
   ]
  },
  {
   "cell_type": "code",
   "execution_count": null,
   "id": "10c0a4c2-5e21-469d-814a-d70f9ed63b7f",
   "metadata": {},
   "outputs": [],
   "source": []
  },
  {
   "cell_type": "code",
   "execution_count": null,
   "id": "9357f1f9-2501-4052-b18a-a5684488ce67",
   "metadata": {},
   "outputs": [],
   "source": []
  },
  {
   "cell_type": "code",
   "execution_count": null,
   "id": "e8436c28-29c3-4973-b01d-5877fa880b81",
   "metadata": {},
   "outputs": [],
   "source": [
    "\n",
    "\n",
    "\n",
    "\n"
   ]
  }
 ],
 "metadata": {
  "kernelspec": {
   "display_name": "Python 3.8 (Scikit-learn)",
   "language": "python",
   "name": "scikit-learn"
  },
  "language_info": {
   "codemirror_mode": {
    "name": "ipython",
    "version": 3
   },
   "file_extension": ".py",
   "mimetype": "text/x-python",
   "name": "python",
   "nbconvert_exporter": "python",
   "pygments_lexer": "ipython3",
   "version": "3.8.10"
  }
 },
 "nbformat": 4,
 "nbformat_minor": 5
}
